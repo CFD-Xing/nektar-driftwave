{
 "cells": [
  {
   "cell_type": "markdown",
   "id": "catholic-saskatchewan",
   "metadata": {},
   "source": [
    "## Overview\n",
    "\n",
    "This repository contains an implementation of the 2D Hasegawa-Wakatani equations using Nektar++. The equations are stated as\n",
    "\n",
    "\\begin{align*}\n",
    "  \\frac{\\partial\\zeta}{\\partial t} + [\\phi, \\zeta] &= \\alpha (\\phi - n) \\\\\n",
    "  \\frac{\\partial n}{\\partial t} + [\\phi, n] &= \\alpha (\\phi - n) - \\kappa \\frac{\\partial\\phi}{\\partial y}\n",
    "\\end{align*}\n",
    "\n",
    "where $\\zeta$ is the vorticity, $n$ is the perturbed number density, $\\phi$ is the electrostatic potential, and\n",
    "\n",
    "$$[a,b] = \\frac{\\partial a}{\\partial x} \\frac{\\partial b}{\\partial y} - \\frac{\\partial a}{\\partial y} \\frac{\\partial b}{\\partial x}$$\n",
    "\n",
    "is the canonical Poisson bracket operator. The vorticity and electrostatic potential are related through the Poisson equation $\\nabla^2\\phi = \\zeta$. $\\alpha$ is the adiabiacity operator (taken to be constant in this solver), and $\\kappa$ is the background density gradient scale length.\n",
    "\n",
    "## Numerical implementation\n",
    "\n",
    "In the enclosed solver, the equations are solved in a similar manner [as the approach outlined by Ammar Hakim](http://ammar-hakim.org/sj/je/je17/je17-hasegawa-wakatani.html). We formulate the above equations in conservative form as\n",
    "\n",
    "$$ \\frac{\\partial \\mathbf{u}}{\\partial t} + \\nabla \\cdot \\mathbf{F}(\\mathbf{u}) = \\mathbf{G}(\\mathbf{u}) $$\n",
    "\n",
    "where $\\mathbf{u} = (\\zeta, n)$, $\\mathbf{F}(\\mathbf{u}) = [ \\mathbf{v}_E \\phi, \\mathbf{v}_E \\zeta ]$ with the drift velocity $\\mathbf{v}_E = (\\partial_y \\phi, -\\partial_x \\phi)$, and $\\mathbf{G}$ contains the remaining source terms on the right hand side. This is then discretised using a discontinuous Galerkin formulation; this has the advantage of increasingly stability and means that the hyperviscosity term that sometimes appears on the right hand side is not required.\n",
    "\n",
    "Further details on implementation:\n",
    "\n",
    "- timestepping is performed explicitly: Nektar++ supports a number of explicit timestepping methods through the general linear method for timestepping (see Vos et al, Int. J. Comp. Fluid Dyn. 25 (2011), pp 107-125 for details and the Nektar++ user guide for a list of supported timestepping methods).\n",
    "- at each timestep, the electrostatic potential is solved however in a continuous Galerkin (CG) setting, which is more optimized for the Poisson solve.\n",
    "\n",
    "## Example simulation\n",
    "\n",
    "The `example` directory contains a setup for this case with a simple square, meshed using a $64\\times64$ quadrilateral grid at order 3, with $\\kappa = 1$, $\\alpha = 2$ and initialised with a Gaussian field so that\n",
    "\n",
    "$$ n(\\mathbf{x}) = \\phi(\\mathbf{x}) = \\exp(-\\|\\mathbf{x}\\|^2/s^2), \\quad \\zeta(\\mathbf{x}) = 4\\exp(-\\|\\mathbf{x}\\|^2/s^2)\\frac{\\|\\mathbf{x}\\|^2 - s^2}{s^4} $$\n",
    "\n",
    "with $s=2$. Simulation setup (e.g. parameters, boundary conditions) is stored in the `driftwave.xml` session file, with the grid in the `square_quads.xml` session. To run the solver in serial and assuming you are running inside the `docker` environment, run\n",
    "```\n",
    "cd example\n",
    "DriftWaveSolver driftwave.xml square_quads.xml\n",
    "```\n",
    "or in parallel, run\n",
    "```\n",
    "cd example\n",
    "mpirun -n $NPROCS DriftWaveSolver driftwave.xml square_quads.xml\n",
    "```"
   ]
  },
  {
   "cell_type": "code",
   "execution_count": null,
   "id": "recent-daughter",
   "metadata": {},
   "outputs": [],
   "source": []
  }
 ],
 "metadata": {
  "kernelspec": {
   "display_name": "Python 3",
   "language": "python",
   "name": "python3"
  },
  "language_info": {
   "codemirror_mode": {
    "name": "ipython",
    "version": 3
   },
   "file_extension": ".py",
   "mimetype": "text/x-python",
   "name": "python",
   "nbconvert_exporter": "python",
   "pygments_lexer": "ipython3",
   "version": "3.8.7"
  }
 },
 "nbformat": 4,
 "nbformat_minor": 5
}
